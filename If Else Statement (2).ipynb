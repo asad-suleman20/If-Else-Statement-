{
 "cells": [
  {
   "cell_type": "code",
   "execution_count": 1,
   "metadata": {},
   "outputs": [
    {
     "name": "stdout",
     "output_type": "stream",
     "text": [
      "Hello World\n"
     ]
    }
   ],
   "source": [
    "print (\"Hello World\");"
   ]
  },
  {
   "cell_type": "code",
   "execution_count": 3,
   "metadata": {},
   "outputs": [
    {
     "name": "stdout",
     "output_type": "stream",
     "text": [
      "15\n"
     ]
    }
   ],
   "source": [
    "a = 5;\n",
    "b = 10;\n",
    "c = a + b;\n",
    "print (c)"
   ]
  },
  {
   "cell_type": "code",
   "execution_count": 5,
   "metadata": {},
   "outputs": [
    {
     "name": "stdout",
     "output_type": "stream",
     "text": [
      "Asad Suleman\n"
     ]
    }
   ],
   "source": [
    "x = \"Asad\";\n",
    "y = \" Suleman\";\n",
    "x = x + y;\n",
    "print (x);"
   ]
  },
  {
   "cell_type": "code",
   "execution_count": 7,
   "metadata": {},
   "outputs": [
    {
     "name": "stdout",
     "output_type": "stream",
     "text": [
      "815\n"
     ]
    }
   ],
   "source": [
    "f = \"8\";\n",
    "g = \"15\";\n",
    "h = f + g;\n",
    "print (h);"
   ]
  },
  {
   "cell_type": "code",
   "execution_count": 9,
   "metadata": {},
   "outputs": [
    {
     "name": "stdout",
     "output_type": "stream",
     "text": [
      "5040\n"
     ]
    }
   ],
   "source": [
    "a = \"50\";\n",
    "b = \"40\";\n",
    "c = a + b;\n",
    "print (c);"
   ]
  },
  {
   "cell_type": "code",
   "execution_count": 10,
   "metadata": {},
   "outputs": [
    {
     "name": "stdout",
     "output_type": "stream",
     "text": [
      "70\n"
     ]
    }
   ],
   "source": [
    "x = 8;\n",
    "y = x + 40;\n",
    "z = y - x + 30;\n",
    "print (z);"
   ]
  },
  {
   "cell_type": "code",
   "execution_count": 11,
   "metadata": {},
   "outputs": [
    {
     "name": "stdout",
     "output_type": "stream",
     "text": [
      "122.0\n"
     ]
    }
   ],
   "source": [
    "a = 24 - 8 / 4 + 5 * 20;\n",
    "print (a);"
   ]
  },
  {
   "cell_type": "code",
   "execution_count": 13,
   "metadata": {},
   "outputs": [
    {
     "name": "stdout",
     "output_type": "stream",
     "text": [
      "55.0\n"
     ]
    }
   ],
   "source": [
    "a = 12 - 4 / 2 + 9 * 5;\n",
    "print (a);"
   ]
  },
  {
   "cell_type": "code",
   "execution_count": 14,
   "metadata": {},
   "outputs": [
    {
     "name": "stdout",
     "output_type": "stream",
     "text": [
      "3.6363636363636367\n"
     ]
    }
   ],
   "source": [
    "a = ((12 - 4) / (2 + 9) * 5);\n",
    "print (a);"
   ]
  },
  {
   "cell_type": "code",
   "execution_count": 17,
   "metadata": {},
   "outputs": [
    {
     "name": "stdout",
     "output_type": "stream",
     "text": [
      "1\n"
     ]
    }
   ],
   "source": [
    "x = 10;\n",
    "y = x%3;\n",
    "print (y);"
   ]
  },
  {
   "cell_type": "code",
   "execution_count": 18,
   "metadata": {},
   "outputs": [
    {
     "name": "stdout",
     "output_type": "stream",
     "text": [
      "10\n"
     ]
    }
   ],
   "source": [
    "f = 30;\n",
    "f = 10;\n",
    "print (f);"
   ]
  },
  {
   "cell_type": "code",
   "execution_count": 19,
   "metadata": {},
   "outputs": [
    {
     "name": "stdout",
     "output_type": "stream",
     "text": [
      "17\n"
     ]
    }
   ],
   "source": [
    "g = 15;\n",
    "g = g + 2;\n",
    "print (g);"
   ]
  },
  {
   "cell_type": "code",
   "execution_count": 20,
   "metadata": {},
   "outputs": [
    {
     "name": "stdout",
     "output_type": "stream",
     "text": [
      "28\n"
     ]
    }
   ],
   "source": [
    "a = 25; \n",
    "a+= 3;\n",
    "print (a);"
   ]
  },
  {
   "cell_type": "code",
   "execution_count": 21,
   "metadata": {},
   "outputs": [
    {
     "name": "stdout",
     "output_type": "stream",
     "text": [
      "6\n"
     ]
    }
   ],
   "source": [
    "a = 3;\n",
    "a = a+ 3;\n",
    "print (a);"
   ]
  },
  {
   "cell_type": "code",
   "execution_count": 22,
   "metadata": {},
   "outputs": [
    {
     "name": "stdout",
     "output_type": "stream",
     "text": [
      "True\n",
      "True\n",
      "True\n"
     ]
    }
   ],
   "source": [
    "if 1 > 0:\n",
    "    print (\"True\");\n",
    "else:\n",
    "    print (\"False\"); \n",
    "if 0 < 1:\n",
    "    print (\"True\");\n",
    "else:\n",
    "    print (\"False\");\n",
    "if 1 >= 0:\n",
    "    print (\"True\");\n",
    "else:\n",
    "    print (\"False\");"
   ]
  },
  {
   "cell_type": "code",
   "execution_count": 28,
   "metadata": {},
   "outputs": [
    {
     "name": "stdout",
     "output_type": "stream",
     "text": [
      "yep, it's a cat.\n"
     ]
    }
   ],
   "source": [
    "species = \"cat\";\n",
    "if species == \"cat\":\n",
    "    print (\"yep, it's a cat.\");\n",
    "else:\n",
    "    print (\"Nope, not cat.\");"
   ]
  },
  {
   "cell_type": "code",
   "execution_count": 32,
   "metadata": {},
   "outputs": [
    {
     "name": "stdout",
     "output_type": "stream",
     "text": [
      "buy_score = 10\n"
     ]
    }
   ],
   "source": [
    "if donut_condition == \"fresh\":\n",
    "    print (\"buy_score = 10\");\n",
    "elif donut_price == \"low\":\n",
    "    print (\"buy_score = 5\");\n",
    "else:\n",
    "    print (\"buy_score = 0\");"
   ]
  },
  {
   "cell_type": "code",
   "execution_count": 35,
   "metadata": {},
   "outputs": [
    {
     "name": "stdout",
     "output_type": "stream",
     "text": [
      "buy_price += 10\n",
      "it's delicious\n",
      "the price are reasonable\n"
     ]
    }
   ],
   "source": [
    "if donut_condition == \"fresh\":\n",
    "    print (\"buy_price += 10\");\n",
    "else:\n",
    "    print (\"buy_score -= 10\");\n",
    "donut_filling =\"chocolate\";\n",
    "if donut_filling == \"chocolate\":\n",
    "    print (\"it's delicious\");\n",
    "else:\n",
    "    print (\"it's not delicious\");\n",
    "donut_price = \"reasonable\";\n",
    "if donut_price == \"reasonable\":\n",
    "    print (\"the price are reasonable\");\n",
    "else:\n",
    "    print (\"the price are not reasonable\");"
   ]
  },
  {
   "cell_type": "code",
   "execution_count": 43,
   "metadata": {},
   "outputs": [
    {
     "name": "stdout",
     "output_type": "stream",
     "text": [
      "try to recruit them\n"
     ]
    }
   ],
   "source": [
    "weight = 300;\n",
    "time = 5;\n",
    "if weight >= 300 and time < 6:\n",
    "    print (\"try to recruit them\");\n",
    "else:\n",
    "    print (\"not recruitable\");\n"
   ]
  },
  {
   "cell_type": "code",
   "execution_count": 45,
   "metadata": {},
   "outputs": [
    {
     "name": "stdout",
     "output_type": "stream",
     "text": [
      "not recruitable\n"
     ]
    }
   ],
   "source": [
    "age = 26;\n",
    "height = 70;\n",
    "if age > 27 and height < 72:\n",
    "    print (\"try to recruit them\");\n",
    "else:\n",
    "    print (\"not recruitable\");\n"
   ]
  },
  {
   "cell_type": "code",
   "execution_count": 50,
   "metadata": {},
   "outputs": [
    {
     "name": "stdout",
     "output_type": "stream",
     "text": [
      "Welcome to Leeds College!\n"
     ]
    }
   ],
   "source": [
    "Sat = 950;\n",
    "Avg = 900;\n",
    "Gpa = 2.5;\n",
    "if Sat > Avg or Gpa > 2.5:\n",
    "    print (\"Welcome to Leeds College!\");\n",
    "else:\n",
    "    print (\"not elligible\");"
   ]
  },
  {
   "cell_type": "code",
   "execution_count": 55,
   "metadata": {},
   "outputs": [
    {
     "name": "stdout",
     "output_type": "stream",
     "text": [
      "Not the resident of U.K\n"
     ]
    }
   ],
   "source": [
    "age = 70;\n",
    "age = 22;\n",
    "resident = \"U.K\";\n",
    "if age > 65 or age < 21 and resident == \"U.K\":\n",
    "    print (\"Resident of U.K\");\n",
    "else:\n",
    "    print (\"Not the resident of U.K\");"
   ]
  },
  {
   "cell_type": "code",
   "execution_count": 56,
   "metadata": {},
   "outputs": [
    {
     "name": "stdout",
     "output_type": "stream",
     "text": [
      "Hello, World!\n"
     ]
    }
   ],
   "source": [
    "# This is a comment\n",
    "# This is another commment\n",
    "print (\"Hello, World!\");"
   ]
  },
  {
   "cell_type": "code",
   "execution_count": 58,
   "metadata": {},
   "outputs": [
    {
     "name": "stdout",
     "output_type": "stream",
     "text": [
      "Welcome to Pakistan\n",
      "Welcome to Pakistan\n",
      "Welcome to Pakistan\n"
     ]
    }
   ],
   "source": [
    "first_name = \"Asad\";\n",
    "last_name = \"Suleman\";\n",
    "interest = \"Learning Python\";\n",
    "if first_name == \"Asad\":\n",
    "    print (\"Welcome to Pakistan\");\n",
    "if last_name == \"Suleman\":\n",
    "    print (\"Welcome to Pakistan\");\n",
    "if interest == \"Learning Python\":\n",
    "    print (\"Welcome to Pakistan\");"
   ]
  },
  {
   "cell_type": "code",
   "execution_count": 59,
   "metadata": {},
   "outputs": [
    {
     "name": "stdout",
     "output_type": "stream",
     "text": [
      "Australia, Pakistan,Newzealand,England,Atlanta,Chicago,Los Angeles\n"
     ]
    }
   ],
   "source": [
    "city_0 = \"Australia\";\n",
    "city_1 = \"Pakistan\";\n",
    "city_2 = \"Newzealand\";\n",
    "city_3 = \"England\";\n",
    "city_4 = \"Atlanta\";\n",
    "city_5 = \"Chicago\";\n",
    "city_6 = \"Los Angeles\";\n",
    "print (city_0+\", \"+city_1+\",\"+city_2+\",\"+city_3+\",\"+city_4+\",\"+city_5+\",\"+city_6)"
   ]
  },
  {
   "cell_type": "code",
   "execution_count": null,
   "metadata": {},
   "outputs": [],
   "source": []
  }
 ],
 "metadata": {
  "kernelspec": {
   "display_name": "Python 3",
   "language": "python",
   "name": "python3"
  },
  "language_info": {
   "codemirror_mode": {
    "name": "ipython",
    "version": 3
   },
   "file_extension": ".py",
   "mimetype": "text/x-python",
   "name": "python",
   "nbconvert_exporter": "python",
   "pygments_lexer": "ipython3",
   "version": "3.7.6"
  }
 },
 "nbformat": 4,
 "nbformat_minor": 4
}
